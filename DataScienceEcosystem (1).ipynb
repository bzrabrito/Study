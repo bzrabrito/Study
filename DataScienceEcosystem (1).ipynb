{
 "cells": [
  {
   "cell_type": "markdown",
   "id": "4f4a58b8-a128-4d39-aba1-1dcff4daa488",
   "metadata": {
    "tags": []
   },
   "source": [
    "# Data Science Tools and Ecosystem"
   ]
  },
  {
   "cell_type": "markdown",
   "id": "68ec99b8-8f7d-4cda-8eb8-814c2f38f415",
   "metadata": {},
   "source": [
    "In this notebook, Data Science Tools and Ecosystem are summarized."
   ]
  },
  {
   "cell_type": "markdown",
   "id": "b028f607-02dc-470e-9998-537a8699427b",
   "metadata": {},
   "source": [
    "Objectives:\n",
    "\n",
    "* list some popular data science Languages\n",
    "* List some common Libraries used in data Science\n",
    "* Show some arithmetic expressions in Python\n",
    "* Show some examples of code in Python\n",
    "* Show example of a table"
   ]
  },
  {
   "cell_type": "markdown",
   "id": "8e2b75b7-5daf-42b8-a34f-4a4b02a7e332",
   "metadata": {},
   "source": [
    "## Author\n",
    "Guilherme Brito"
   ]
  },
  {
   "cell_type": "markdown",
   "id": "90b0d29a-234b-41a5-90e3-ccb1c31c228e",
   "metadata": {},
   "source": [
    "Some of the popular languages that Data Scientists use are:\n",
    "1. python\n",
    "2. R\n",
    "3. SQL"
   ]
  },
  {
   "cell_type": "markdown",
   "id": "9cde4cd6-fbf2-4b99-adc2-924c7d5ec2d9",
   "metadata": {},
   "source": [
    "Some of the commonly used libraries used by Data Scientists include:\n",
    "1. Tensorflow\n",
    "2. Pandas\n",
    "3. Pytorch"
   ]
  },
  {
   "cell_type": "markdown",
   "id": "a5d7b0ad-7279-43e8-bc98-dd6ff7795549",
   "metadata": {},
   "source": [
    "Data Science Tools |\n",
    "------------------ |\n",
    "Jupyter Notebooks |\n",
    "Spark |\n",
    "TensorFlow |"
   ]
  },
  {
   "cell_type": "markdown",
   "id": "534ebb60-cbfd-4c3c-bf65-0eb7cffc9b12",
   "metadata": {},
   "source": [
    "### Below are a few examples of evaluating arithmetic expressions in Python\n",
    "1. a * b Multiplication\n",
    "1. a / b Division\n",
    "1. a % b Module\n",
    "1. a ** b exponential"
   ]
  },
  {
   "cell_type": "code",
   "execution_count": 15,
   "id": "0c3b5b6b-6155-485e-9f4c-d553d80a8c40",
   "metadata": {},
   "outputs": [
    {
     "data": {
      "text/plain": [
       "17"
      ]
     },
     "execution_count": 15,
     "metadata": {},
     "output_type": "execute_result"
    }
   ],
   "source": [
    "#This a simple arithmetic expression to mutiply then add integers\n",
    "(3*4)+5\n"
   ]
  },
  {
   "cell_type": "code",
   "execution_count": 16,
   "id": "c3c6ea6a-cb89-4dc0-867c-820d05db2740",
   "metadata": {},
   "outputs": [
    {
     "data": {
      "text/plain": [
       "3.3333333333333335"
      ]
     },
     "execution_count": 16,
     "metadata": {},
     "output_type": "execute_result"
    }
   ],
   "source": [
    "#This will convert 200 minutes to hours by diving by 60\n",
    "200/60"
   ]
  },
  {
   "cell_type": "code",
   "execution_count": null,
   "id": "9cfaecbf-0a21-430f-89c9-b6642ea06566",
   "metadata": {},
   "outputs": [],
   "source": []
  }
 ],
 "metadata": {
  "kernelspec": {
   "display_name": "Python",
   "language": "python",
   "name": "conda-env-python-py"
  },
  "language_info": {
   "codemirror_mode": {
    "name": "ipython",
    "version": 3
   },
   "file_extension": ".py",
   "mimetype": "text/x-python",
   "name": "python",
   "nbconvert_exporter": "python",
   "pygments_lexer": "ipython3",
   "version": "3.7.12"
  }
 },
 "nbformat": 4,
 "nbformat_minor": 5
}
